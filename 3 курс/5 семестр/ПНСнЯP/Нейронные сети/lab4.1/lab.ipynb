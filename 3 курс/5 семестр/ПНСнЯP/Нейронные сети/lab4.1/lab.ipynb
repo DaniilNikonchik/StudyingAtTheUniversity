{
 "cells": [
  {
   "cell_type": "code",
   "execution_count": 22,
   "metadata": {
    "collapsed": true
   },
   "outputs": [
    {
     "name": "stdout",
     "output_type": "stream",
     "text": [
      "Выходные данные после тренировки:\n",
      "[[0.00966449]\n",
      " [0.00786506]\n",
      " [0.99358898]\n",
      " [0.99211957]]\n",
      "Веса:\n",
      "[[ 9.67299303]\n",
      " [-0.2078435 ]\n",
      " [-4.62963669]]\n"
     ]
    }
   ],
   "source": [
    "import numpy as np\n",
    "\n",
    "# Сигмоида\n",
    "def nonlin(x, deriv=False):\n",
    "    if(deriv==True):\n",
    "        return (x*(1-x))\n",
    "    return 1/(1+np.exp(-x))\n",
    "\n",
    "# набор входных данных\n",
    "X = np.array([  [0,0,1],\n",
    "                [0,1,1],\n",
    "                [1,0,1],\n",
    "                [1,1,1] ])\n",
    "\n",
    "# выходные данные\n",
    "y = np.array([[0,0,1,1]]).T\n",
    "\n",
    "# сделаем случайные числа более определёнными\n",
    "np.random.seed(1)\n",
    "\n",
    "# инициализируем веса случайным образом со средним 0\n",
    "syn0 = 2*np.random.random((3,1)) - 1\n",
    "\n",
    "for iter in range(10000):\n",
    "\n",
    "    # прямое распространение\n",
    "    l0 = X\n",
    "    l1 = nonlin(np.dot(l0,syn0))\n",
    "\n",
    "    # насколько мы ошиблись?\n",
    "    l1_error = y - l1\n",
    "\n",
    "    # перемножим это с наклоном сигмоиды\n",
    "    # на основе значений в l1\n",
    "    l1_delta = l1_error * nonlin(l1,True) # !!!\n",
    "\n",
    "    # обновим веса\n",
    "    syn0 += np.dot(l0.T,l1_delta) # !!!\n",
    "\n",
    "print (\"Выходные данные после тренировки:\")\n",
    "print (l1)\n",
    "print ('Веса:')\n",
    "print (syn0)"
   ]
  },
  {
   "cell_type": "code",
   "execution_count": 32,
   "outputs": [
    {
     "name": "stdout",
     "output_type": "stream",
     "text": [
      "Error:0.5024705955137142\n",
      "Error:0.012416831538349802\n",
      "Error:0.008441694573155236\n",
      "Error:0.00677035755188783\n",
      "Error:0.005799104069768198\n",
      "Error:0.00514690063569116\n",
      "[[0.00502116]\n",
      " [0.99520558]\n",
      " [0.99555156]\n",
      " [0.00442004]]\n",
      "[[5.00000000e-01 5.00000000e-01 5.00000000e-01 5.00000000e-01\n",
      "  5.00000000e-01 5.00000000e-01 5.00000000e-01 5.00000000e-01\n",
      "  5.00000000e-01 5.00000000e-01 5.00000000e-01 5.00000000e-01\n",
      "  5.00000000e-01 5.00000000e-01]\n",
      " [8.07152714e-03 6.19056435e-01 6.42274540e-03 5.40082330e-01\n",
      "  8.90260476e-01 2.95137581e-01 9.59978194e-01 9.94933927e-01\n",
      "  4.93004001e-01 6.13695631e-01 9.96084140e-01 9.18760029e-01\n",
      "  6.66540624e-01 1.15658038e-02]\n",
      " [8.80701755e-03 5.81851004e-01 6.85781704e-03 4.43116687e-01\n",
      "  1.15390224e-02 2.81829708e-01 1.32104886e-03 8.08793384e-02\n",
      "  4.09392735e-01 2.54385947e-01 7.17065130e-02 9.02765423e-01\n",
      "  1.91468120e-01 8.82098328e-01]\n",
      " [7.22960549e-05 6.93369964e-01 4.46348569e-05 4.83044381e-01\n",
      "  8.65101812e-02 1.41126534e-01 3.07533192e-02 9.45300662e-01\n",
      "  4.02643589e-01 3.51493226e-01 9.51571690e-01 9.90565978e-01\n",
      "  3.21274964e-01 8.04967530e-02]]\n"
     ]
    }
   ],
   "source": [
    "import numpy as np\n",
    "\n",
    "def nonlin(x, deriv=False):\n",
    "    if (deriv == True):\n",
    "        return (x * (1 - x))\n",
    "\n",
    "    return 1 / (1 + np.exp(-x))\n",
    "\n",
    "\n",
    "X = np.array([[0, 0],\n",
    "              [0, 1],\n",
    "              [1, 0],\n",
    "              [1, 1]])\n",
    "\n",
    "y = np.array([[0],\n",
    "              [1],\n",
    "              [1],\n",
    "              [0]])\n",
    "\n",
    "np.random.seed(1)\n",
    "\n",
    "# случайно инициализируем веса, в среднем - 0\n",
    "syn0 = 2 * np.random.random((2, 14)) - 1\n",
    "syn1 = 2 * np.random.random((14, 1)) - 1\n",
    "\n",
    "for j in range(60000):\n",
    "\n",
    "    # проходим вперёд по слоям 0, 1 и 2\n",
    "    l0 = X\n",
    "    l1 = nonlin(np.dot(l0, syn0))\n",
    "    l2 = nonlin(np.dot(l1, syn1))\n",
    "\n",
    "    # как сильно мы ошиблись относительно нужной величины?\n",
    "    l2_error = y - l2\n",
    "\n",
    "    if (j % 10000) == 0:\n",
    "        print (\"Error:\" + str(np.mean(np.abs(l2_error))))\n",
    "\n",
    "    # в какую сторону нужно двигаться?\n",
    "    # если мы были уверены в предсказании, то сильно менять его не надо\n",
    "    l2_delta = l2_error * nonlin(l2, deriv=True)\n",
    "\n",
    "    # как сильно значения l1 влияют на ошибки в l2?\n",
    "    l1_error = l2_delta.dot(syn1.T)\n",
    "\n",
    "    # в каком направлении нужно двигаться, чтобы прийти к l1?\n",
    "    # если мы были уверены в предсказании, то сильно менять его не надо\n",
    "    l1_delta = l1_error * nonlin(l1, deriv=True)\n",
    "\n",
    "    syn1 += l1.T.dot(l2_delta)\n",
    "    syn0 += l0.T.dot(l1_delta)\n",
    "print(l2)\n",
    "\n",
    "print (l1)\n"
   ],
   "metadata": {
    "collapsed": false,
    "pycharm": {
     "name": "#%%\n"
    }
   }
  },
  {
   "cell_type": "code",
   "execution_count": 28,
   "outputs": [
    {
     "name": "stdout",
     "output_type": "stream",
     "text": [
      "[[0.00131947]\n",
      " [0.99344501]\n",
      " [0.9934567 ]\n",
      " [0.00774106]]\n"
     ]
    }
   ],
   "source": [
    "X = np.array([ [0,0,1],[0,1,1],[1,0,1],[1,1,1] ])\n",
    "y = np.array([[0,1,1,0]]).T\n",
    "\n",
    "syn0 = 2*np.random.random((3,4)) - 1\n",
    "syn1 = 2*np.random.random((4,1)) - 1\n",
    "\n",
    "for j in range(60000):\n",
    "    l1 = 1/(1+np.exp(-(np.dot(X,syn0))))\n",
    "    l2 = 1/(1+np.exp(-(np.dot(l1,syn1))))\n",
    "    l2_delta = (y - l2)*(l2*(1-l2))\n",
    "    l1_delta = l2_delta.dot(syn1.T) * (l1 * (1-l1))\n",
    "\n",
    "    syn1 += l1.T.dot(l2_delta)\n",
    "    syn0 += X.T.dot(l1_delta)\n",
    "\n",
    "print (l2)"
   ],
   "metadata": {
    "collapsed": false,
    "pycharm": {
     "name": "#%%\n"
    }
   }
  },
  {
   "cell_type": "code",
   "execution_count": 31,
   "outputs": [
    {
     "name": "stdout",
     "output_type": "stream",
     "text": [
      "Выходные данные после тренировки:\n",
      "[[0.5]\n",
      " [0.5]\n",
      " [0.5]\n",
      " [0.5]]\n",
      "Веса:\n",
      "[[-3.19189120e-16]\n",
      " [ 1.52655666e-16]]\n"
     ]
    }
   ],
   "source": [
    "import numpy as np\n",
    "\n",
    "\n",
    "# Сигмоида\n",
    "def nonlin(x, deriv=False):\n",
    "    if (deriv == True):\n",
    "        return (x * (1 - x))\n",
    "    return 1 / (1 + np.exp(-x))\n",
    "\n",
    "\n",
    "# набор входных данных\n",
    "X = np.array([[0, 0],\n",
    "              [0, 1],\n",
    "              [1, 0],\n",
    "              [1, 1]])\n",
    "\n",
    "# выходные данные\n",
    "y = np.array([[1, 0, 0, 1]]).T\n",
    "\n",
    "# сделаем случайные числа более определёнными\n",
    "np.random.seed(1)\n",
    "\n",
    "# инициализируем веса случайным образом со средним 0\n",
    "syn0 = 2 * np.random.random((2, 1)) - 1\n",
    "\n",
    "for iter in range(10000):\n",
    "    # прямое распространение\n",
    "    l0 = X\n",
    "    l1 = nonlin(np.dot(l0, syn0))\n",
    "\n",
    "    # насколько мы ошиблись?\n",
    "    l1_error = y - l1\n",
    "\n",
    "    # перемножим это с наклоном сигмоиды\n",
    "    # на основе значений в l1\n",
    "    l1_delta = l1_error * nonlin(l1, True)  # !!!\n",
    "\n",
    "    # обновим веса\n",
    "    syn0 += np.dot(l0.T, l1_delta)  # !!!\n",
    "\n",
    "print (\"Выходные данные после тренировки:\")\n",
    "print (l1)\n",
    "print ('Веса:')\n",
    "print (syn0)\n"
   ],
   "metadata": {
    "collapsed": false,
    "pycharm": {
     "name": "#%%\n"
    }
   }
  },
  {
   "cell_type": "code",
   "execution_count": 29,
   "outputs": [
    {
     "name": "stdout",
     "output_type": "stream",
     "text": [
      "Выходные данные после тренировки:\n",
      "[[0.5]\n",
      " [0.5]\n",
      " [0.5]\n",
      " [0.5]]\n",
      "Веса:\n",
      "[[-3.19189120e-16]\n",
      " [ 1.52655666e-16]]\n"
     ]
    }
   ],
   "source": [
    "#без скрытого слоя\n",
    "\n",
    "import numpy as np\n",
    "\n",
    "def nonlin(x, deriv = False):\n",
    "    if(deriv == True):\n",
    "        return x * (1 - x)\n",
    "    return 1/(1 + np.exp(-x))\n",
    "\n",
    "X = np.array([[0,0],\n",
    "              [0,1],\n",
    "              [1,0],\n",
    "              [1,1]])\n",
    "\n",
    "y = np.array([[1, 0, 0, 1]]).T\n",
    "\n",
    "np.random.seed(1)\n",
    "\n",
    "syn0 = 2*np.random.random((2, 1)) - 1\n",
    "\n",
    "for iter in range(10000):\n",
    "\n",
    "    l0 = X\n",
    "    l1 = nonlin(np.dot(l0, syn0))\n",
    "    l1_error = y - l1\n",
    "    l1_delta = l1_error * nonlin(l1, deriv=True)\n",
    "    syn0 += np.dot(l0.T, l1_delta)\n",
    "\n",
    "print ('Выходные данные после тренировки:')\n",
    "print (l1)\n",
    "print ('Веса:')\n",
    "print (syn0)"
   ],
   "metadata": {
    "collapsed": false,
    "pycharm": {
     "name": "#%%\n"
    }
   }
  }
 ],
 "metadata": {
  "kernelspec": {
   "display_name": "Python 3",
   "language": "python",
   "name": "python3"
  },
  "language_info": {
   "codemirror_mode": {
    "name": "ipython",
    "version": 2
   },
   "file_extension": ".py",
   "mimetype": "text/x-python",
   "name": "python",
   "nbconvert_exporter": "python",
   "pygments_lexer": "ipython2",
   "version": "2.7.6"
  }
 },
 "nbformat": 4,
 "nbformat_minor": 0
}